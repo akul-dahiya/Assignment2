{
 "cells": [
  {
   "cell_type": "markdown",
   "id": "8cf39dae-2eb8-4a2b-a19d-cc18cf638f72",
   "metadata": {},
   "source": [
    "Q1. How do you comment code in Python? What are the different types of comments?\n",
    "\n",
    "Ans. we can comment a code in python by using # in starting of a line . There are two types\n",
    "     of comments single line comment , which starts with # and multi line comment with starts and \n",
    "     end with triple quotes ''' '''."
   ]
  },
  {
   "cell_type": "markdown",
   "id": "8882bb43-dd3f-483d-a12a-632b17b191ff",
   "metadata": {},
   "source": [
    "Q2. What are variables in Python? How do you declare and assign values to variables?\n",
    "\n",
    "Ans. Variable are like a container which is used to store values in memory . we declare and assign\n",
    "     values to variables like a = 5 in this a is a variable and = is used to assign value and 5 is \n",
    "     the value which is store in the variable a."
   ]
  },
  {
   "cell_type": "markdown",
   "id": "bf917467-2a16-48d3-b26a-6ea31927c4b1",
   "metadata": {},
   "source": [
    "Q3. How do you convert one data type to another in Python?\n",
    "\n",
    "Ans. we can convert one data type into another by using type casting .\n",
    "     for example . x = ''1043''\n",
    "                   y = int(x)\n",
    "                   y\n",
    "     in this example we convert a string data type into the integer by using typecasting"
   ]
  },
  {
   "cell_type": "markdown",
   "id": "32037a27-f3d6-4f7d-a5a9-c654d513877b",
   "metadata": {},
   "source": [
    "Q4. How do you write and execute a Python script from the command line?\n",
    "\n",
    "Ans. To execute a python script from the command line we need to open a command line and  type the word python followed by the path to your\n",
    "     your script file like this: python first_script.py HELLO WORLD! They just press the enter."
   ]
  },
  {
   "cell_type": "code",
   "execution_count": 3,
   "id": "3a80770b-1319-447f-87a7-0f446711186c",
   "metadata": {},
   "outputs": [
    {
     "data": {
      "text/plain": [
       "[2, 3]"
      ]
     },
     "execution_count": 3,
     "metadata": {},
     "output_type": "execute_result"
    }
   ],
   "source": [
    "# Q5. Given a list my_list = [1, 2, 3, 4, 5], write the code to slice the list and obtain the sub-list [2, 3].\n",
    "\n",
    "\n",
    "# Ans \n",
    "my_list = [1 , 2 , 3 , 4, 5]\n",
    "my_list[1:3]"
   ]
  },
  {
   "cell_type": "markdown",
   "id": "12f64b36-354f-4549-9be7-c30b0a6a9143",
   "metadata": {},
   "source": [
    "Q6. What is a complex number in mathematics, and how is it represented in Python?\n",
    "\n",
    "Ans Comples numbers are the combination of real and imaginary numbers . Complex no. reperesent by a+bi where a is real part and bi is imaginary\n",
    "   part . In python we represent complex no. as a + bj  where a is real part and bj is complex part"
   ]
  },
  {
   "cell_type": "code",
   "execution_count": 5,
   "id": "2cce31ff-d980-4781-9d9e-8494fa17dd36",
   "metadata": {},
   "outputs": [],
   "source": [
    "# Q7. What is the correct way to declare a variable named age and assign the value 25 to it?\n",
    "\n",
    "# Ans The correct way to assign a variable is :\n",
    "\n",
    "age = 25"
   ]
  },
  {
   "cell_type": "code",
   "execution_count": 6,
   "id": "3142dbbd-d6fc-4fa0-b1c8-853138e0702a",
   "metadata": {},
   "outputs": [
    {
     "data": {
      "text/plain": [
       "float"
      ]
     },
     "execution_count": 6,
     "metadata": {},
     "output_type": "execute_result"
    }
   ],
   "source": [
    "# Q8. Declare a variable named price and assign the value 9.99 to it. What data type does this variable\n",
    "# belong to?\n",
    "\n",
    "# Ans\n",
    "\n",
    "price = 9.99 # This variable belongs to float data type\n",
    "type(price)"
   ]
  },
  {
   "cell_type": "code",
   "execution_count": 7,
   "id": "3cff4f82-d01d-44d7-b393-ae8d52c7007a",
   "metadata": {},
   "outputs": [
    {
     "data": {
      "text/plain": [
       "'Akul Dahiya'"
      ]
     },
     "execution_count": 7,
     "metadata": {},
     "output_type": "execute_result"
    }
   ],
   "source": [
    "# Q9. Create a variable named name and assign your full name to it as a string. How would you print the\n",
    "# value of this variable?\n",
    "\n",
    "# Ans\n",
    "name = \"Akul Dahiya\"\n",
    "name"
   ]
  },
  {
   "cell_type": "code",
   "execution_count": 8,
   "id": "7e63e1b0-23f5-4f46-b0c0-7ec96e75d69e",
   "metadata": {},
   "outputs": [
    {
     "data": {
      "text/plain": [
       "'World'"
      ]
     },
     "execution_count": 8,
     "metadata": {},
     "output_type": "execute_result"
    }
   ],
   "source": [
    "# Q10. Given the string \"Hello, World!\", extract the substring \"World\".\n",
    "\n",
    "# Ans\n",
    "string = \"Hello, World!\"\n",
    "string[7:12]"
   ]
  },
  {
   "cell_type": "code",
   "execution_count": 10,
   "id": "8bd91c59-7147-4be2-a2da-fcdfe675bc74",
   "metadata": {},
   "outputs": [
    {
     "data": {
      "text/plain": [
       "True"
      ]
     },
     "execution_count": 10,
     "metadata": {},
     "output_type": "execute_result"
    }
   ],
   "source": [
    "# Q11. Create a variable named \"is_student\" and assign it a boolean value indicating whether you are\n",
    "# currently a student or not.\n",
    "\n",
    "#Ans\n",
    "is_student = True # if your are not a student you can assign the value False\n",
    "is_student"
   ]
  },
  {
   "cell_type": "code",
   "execution_count": null,
   "id": "d119dcd5-99f2-43ab-86e6-058624d9ad76",
   "metadata": {},
   "outputs": [],
   "source": []
  }
 ],
 "metadata": {
  "kernelspec": {
   "display_name": "Python 3 (ipykernel)",
   "language": "python",
   "name": "python3"
  },
  "language_info": {
   "codemirror_mode": {
    "name": "ipython",
    "version": 3
   },
   "file_extension": ".py",
   "mimetype": "text/x-python",
   "name": "python",
   "nbconvert_exporter": "python",
   "pygments_lexer": "ipython3",
   "version": "3.10.8"
  }
 },
 "nbformat": 4,
 "nbformat_minor": 5
}
